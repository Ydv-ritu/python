
#Day 3 assignment
list=[]
Name =str(input("enter ur name")) 
Age =int(input("your age : ")) 
Grade =input(" Your grade : ") 
Address =input(" Your addresse") 
Family_member =int(input("number of family members:"))
Mobile_no = int(input("your mobile number:")) 
email = input("your email") 
list.append(Name)
list.append(Age)
list.append(Grade)
list.append(Address)
list.append(Family_member)
list.append(Mobile_no)
list.append(email)

print ("Here is your detail : ",list)
