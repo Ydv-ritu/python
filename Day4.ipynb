#function 1
def datatype(list, string, float, integer, tupel, set, dictionary) :
     print("This is the list ", list)
     print("This is the string ", string)
     print("This is the float ", float)
     print("This is the integer ", integer)
     print("This is the tupel ", tupel)
     print("This is the set ", set)
     print("This is the dictionary ", dictionary)
#main value
list=(1, 2,3) 
string='letsupgrade'
float=28.6
integer=2
tupel=(1, 2,3,2,1) 
set=(1, 2,3) 
dictionary={'name':'letsupgrade', 'age':20}
datatype(list, string, float, integer, tupel, set, dictionary)

#function 2
def list(a,b) :
   org=(a,b) 
   print("here is the list : ", org)

list(5,8)

#function 3

def print_args(a): 
    print(a) 
dict = {1:2, 3:4, 5:6, 7:8}
#use print_args function  
print_args(dict)
