#Here is day 2 assignment
my_string ="letsupgrade "
my_list = [1, "Hello", 3.4]
my_tuple = (1, 2, 3,1,4) 
my_dict = {1: 'apple', 2: 'ball'}
My_set = (1, 2,3,4,5) 
print (" Letsupgrade ") 
print (my_string) 
print (my_list) 
print (my_tuple) 
print (my_dict) 
print (My_set) 
print ( " Hey", my_string) 
print ("list=", my_list, "tuple =", my_tuple, "
Dictionary =", my_dict, "set=", My_set) 
for i in my_list:
     print(i) 
#True or false are two boolean value. 
print(6>10) 
print(6<10) 

